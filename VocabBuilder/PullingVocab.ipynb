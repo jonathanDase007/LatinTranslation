{
 "cells": [
  {
   "cell_type": "markdown",
   "metadata": {},
   "source": [
    "Imports"
   ]
  },
  {
   "cell_type": "code",
   "execution_count": 2,
   "metadata": {},
   "outputs": [],
   "source": [
    "\n",
    "import requests\n",
    "import pandas as pd"
   ]
  },
  {
   "cell_type": "markdown",
   "metadata": {},
   "source": [
    "Data from the website"
   ]
  },
  {
   "cell_type": "code",
   "execution_count": 49,
   "metadata": {},
   "outputs": [],
   "source": [
    "Pages = requests.get('https://personal.math.ubc.ca/~cass/frivs/latin/latin-dict-full.html#B')"
   ]
  },
  {
   "cell_type": "markdown",
   "metadata": {},
   "source": [
    "Creating a vocab list from the data above"
   ]
  },
  {
   "cell_type": "code",
   "execution_count": 68,
   "metadata": {},
   "outputs": [],
   "source": [
    "Term_parts = Pages.text.split('<BR>')[1:]\n",
    "\n",
    "Vocabulary = []\n",
    "for value in Term_parts:\n",
    "    inner = value.split('<')\n",
    "\n",
    "    #checks if it is a verb\n",
    "    verb = False\n",
    "    if(inner[3][4:].replace('.', '').split(', ')[0][0:2] == 'to'):\n",
    "        verb = True\n",
    "\n",
    "    #inserts it into the array list\n",
    "    Vocabulary.append([inner[1][7:].replace(' : ',''), inner[3][4:].replace('.', '').split(', '), verb])\n",
    "\n",
    "List = pd.DataFrame(Vocabulary)\n",
    "List.columns = ['Word', 'Definition', 'Verb']"
   ]
  },
  {
   "cell_type": "code",
   "execution_count": 69,
   "metadata": {},
   "outputs": [],
   "source": [
    "List.to_csv('vocab.csv')"
   ]
  }
 ],
 "metadata": {
  "interpreter": {
   "hash": "aee8b7b246df8f9039afb4144a1f6fd8d2ca17a180786b69acc140d282b71a49"
  },
  "kernelspec": {
   "display_name": "Python 3.10.2 64-bit",
   "language": "python",
   "name": "python3"
  },
  "language_info": {
   "codemirror_mode": {
    "name": "ipython",
    "version": 3
   },
   "file_extension": ".py",
   "mimetype": "text/x-python",
   "name": "python",
   "nbconvert_exporter": "python",
   "pygments_lexer": "ipython3",
   "version": "3.10.2"
  },
  "orig_nbformat": 4
 },
 "nbformat": 4,
 "nbformat_minor": 2
}
